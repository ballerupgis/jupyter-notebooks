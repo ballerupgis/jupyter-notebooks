{
 "cells": [
  {
   "cell_type": "code",
   "execution_count": 11,
   "metadata": {},
   "outputs": [],
   "source": [
    "import contextlib\n",
    "import OpenSSL.crypto\n",
    "import requests\n",
    "import tempfile\n",
    "import json\n",
    "import xml.etree.ElementTree as etree"
   ]
  },
  {
   "cell_type": "code",
   "execution_count": 12,
   "metadata": {
    "collapsed": true
   },
   "outputs": [],
   "source": [
    "def pfx_to_pem(pfx_path, pfx_password):\n",
    "    ''' Decrypts the .pfx file to be used with requests. '''\n",
    "    with tempfile.NamedTemporaryFile(suffix='.pem', delete=False) as t_pem:\n",
    "        f_pem = open(t_pem.name, 'wb')\n",
    "        pfx = open(pfx_path, 'rb').read()\n",
    "        p12 = OpenSSL.crypto.load_pkcs12(pfx, pfx_password)\n",
    "        f_pem.write(OpenSSL.crypto.dump_privatekey(OpenSSL.crypto.FILETYPE_PEM, p12.get_privatekey()))\n",
    "        f_pem.write(OpenSSL.crypto.dump_certificate(OpenSSL.crypto.FILETYPE_PEM, p12.get_certificate()))\n",
    "        ca = p12.get_ca_certificates()\n",
    "        if ca is not None:\n",
    "            for cert in ca:\n",
    "                f_pem.write(OpenSSL.crypto.dump_certificate(OpenSSL.crypto.FILETYPE_PEM, cert))\n",
    "        f_pem.close()\n",
    "        yield t_pem.name"
   ]
  },
  {
   "cell_type": "code",
   "execution_count": 13,
   "metadata": {},
   "outputs": [
    {
     "name": "stdout",
     "output_type": "stream",
     "text": [
      "38e8c324-abaa-4fed-bdc3-f8d7012ac6fb\n"
     ]
    }
   ],
   "source": [
    "r = requests.get('https://www.tinglysning.dk/tinglysning/ssl/ejendom/landsejerlavmatrikel?landsejerlavid=810152&matrikelnr=5bv', cert='C:/_programmering/python/test.pem')\n",
    "#    print(r.status_code)\n",
    "if r.status_code!= 200:\n",
    "    print('http error')\n",
    "\n",
    "#    r = requests.get(\n",
    "#        'https://test.tinglysning.dk/tinglysning/ssl/ejdsummarisk/7d7d5cf2-fb35-4554-9bfb-1139e83d94ee',\n",
    "#        cert=cert)\n",
    "#https://www.tinglysning.dk/tinglysning/rest/ejdsummarisk/7d7d5cf2-fb35-4554-9bfb-1139e83d94ee\n",
    "#    print (r.content)\n",
    "fejl = 0\n",
    "try:\n",
    "    data = json.loads(r.text)\n",
    "except ValueError:\n",
    "    print('Decode error')\n",
    "    fejl = 1\n",
    "#print (data['items'])\n",
    "for c in data['items']:\n",
    "    print (c['uuid'])\n",
    "#        my_dict = c\n",
    "#print ('https://test.tinglysning.dk/tinglysning/ssl/ejdsummarisk/'+c['uuid'])\n",
    "    r = requests.get(\n",
    "    'https://www.tinglysning.dk/tinglysning/ssl/ejdsummarisk/'+c['uuid'],\n",
    "    cert='C:/_programmering/python/test.pem')\n",
    "    tingxml = etree.fromstring(r.content)\n",
    "\n",
    "    #tingbogsparser(tingxml)\n",
    "\n",
    "    file = open(\"c:/_programmering/python/tingbog.xml\",\"wb\")\n",
    "    file.write(etree.tostring(tingxml,encoding='utf8',method='xml'))\n",
    "    # file.close()\n",
    "#    else:\n",
    "#       with open('c:/_programmering/python/tingbog.xml', 'r') as xml_file:\n",
    "#          xml_tree = etree.parse(xml_file)\n",
    "#     tingxml = xml_tree.getroot()\n",
    "#    tingbogsparser(tingxml)\n",
    "#xmlstring = etree.tostring(tree,encoding='utf8',method='xml')\n"
   ]
  }
 ],
 "metadata": {
  "kernelspec": {
   "display_name": "Python 3",
   "language": "python",
   "name": "python3"
  },
  "language_info": {
   "codemirror_mode": {
    "name": "ipython",
    "version": 3
   },
   "file_extension": ".py",
   "mimetype": "text/x-python",
   "name": "python",
   "nbconvert_exporter": "python",
   "pygments_lexer": "ipython3",
   "version": "3.6.3"
  }
 },
 "nbformat": 4,
 "nbformat_minor": 2
}
