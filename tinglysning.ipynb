{
 "cells": [
  {
   "cell_type": "markdown",
   "metadata": {},
   "source": [
    "# Tinglysningsdata\n",
    "Script som beriger matrikeltabel med oplysninger fra tingbogen ud fra matrikeloplysninger som slås op i tingbogens [system til system adgang](http://www.tinglysningsretten.dk/etl/Pages/default.aspx) som kan tilgås via [API'et](http://www.tinglysningsretten.dk/etl/hoveddokumenter/Documents/HTTP_API_beskrivelse%20v1.1.docx). Scriptet er opbygget i tre faser:\n",
    "1. [Input af matrikeldata fra database](#Input)\n",
    "2. [Berigelse af matrikeldata med data fra tingbogen](#Berigelse)\n",
    "3. [Output berigede matrikeldata til database](#Output)"
   ]
  },
  {
   "cell_type": "code",
   "execution_count": 61,
   "metadata": {
    "collapsed": true
   },
   "outputs": [],
   "source": [
    "import pandas as pd\n",
    "import numpy as np\n",
    "import psycopg2\n",
    "import sqlalchemy\n",
    "from sqlalchemy import create_engine"
   ]
  },
  {
   "cell_type": "markdown",
   "metadata": {},
   "source": [
    "#### Databaseforbindelsen opsættes"
   ]
  },
  {
   "cell_type": "code",
   "execution_count": 63,
   "metadata": {
    "collapsed": true
   },
   "outputs": [],
   "source": [
    "user = 'xxx'\n",
    "pw = 'xxx'\n",
    "port = 5432\n",
    "host = 'postgres'\n",
    "db = 'ballerup'\n",
    "schema = 'proj_tinglysning'\n",
    "table = 'ballerup'"
   ]
  },
  {
   "cell_type": "code",
   "execution_count": 64,
   "metadata": {
    "collapsed": true,
    "scrolled": true
   },
   "outputs": [],
   "source": [
    "con = create_engine('postgresql://{0}:{1}@{2}:{3}/{4}'.format(user, pw, host, port, db))"
   ]
  },
  {
   "cell_type": "markdown",
   "metadata": {},
   "source": [
    "# Input\n",
    "Laver DF med matrikeloplysninger for Ballerup Kommune. Her er listet to muligheder: 1. som henter data fra csv og 2. som henter fra PostgreSQL"
   ]
  },
  {
   "cell_type": "markdown",
   "metadata": {},
   "source": [
    "### 1. CSV"
   ]
  },
  {
   "cell_type": "code",
   "execution_count": 53,
   "metadata": {
    "collapsed": true
   },
   "outputs": [],
   "source": [
    "# Laver DF med matrikeloplysninger for Ballerup Kommune \n",
    "# Fjern .head(5) når det hele skal ind \n",
    "matrikel = pd.read_csv('data/matrikel.csv').head()"
   ]
  },
  {
   "cell_type": "code",
   "execution_count": 54,
   "metadata": {},
   "outputs": [
    {
     "name": "stdout",
     "output_type": "stream",
     "text": [
      "<class 'pandas.core.frame.DataFrame'>\n",
      "RangeIndex: 5 entries, 0 to 4\n",
      "Data columns (total 3 columns):\n",
      "elavskode    5 non-null int64\n",
      "matrnr       5 non-null object\n",
      "esr_ejdnr    5 non-null int64\n",
      "dtypes: int64(2), object(1)\n",
      "memory usage: 200.0+ bytes\n"
     ]
    }
   ],
   "source": [
    "matrikel.info()"
   ]
  },
  {
   "cell_type": "markdown",
   "metadata": {},
   "source": [
    "### 2. PostgreSQL"
   ]
  },
  {
   "cell_type": "code",
   "execution_count": 83,
   "metadata": {
    "collapsed": true
   },
   "outputs": [],
   "source": [
    "# Laver DF med matrikeloplysninger for Ballerup Kommune \n",
    "# Fjern .head(5) når det hele skal ind \n",
    "matrikel = pd.read_sql_query('select elavskode, matrnr, esr_ejdnr from \"_00_grundkort\".\"_00_02_jordstykke\"',con=con).head()"
   ]
  },
  {
   "cell_type": "code",
   "execution_count": 93,
   "metadata": {
    "collapsed": true
   },
   "outputs": [],
   "source": [
    "# Sætter datatype for ejelav og ejdnr til heltal\n",
    "matrikel.elavskode = pd.to_numeric(matrikel.elavskode, errors='coerce').astype(np.int64)\n",
    "matrikel.esr_ejdnr = pd.to_numeric(matrikel.esr_ejdnr, errors='coerce').astype(np.int64)"
   ]
  },
  {
   "cell_type": "code",
   "execution_count": 96,
   "metadata": {},
   "outputs": [
    {
     "data": {
      "text/html": [
       "<div>\n",
       "<style>\n",
       "    .dataframe thead tr:only-child th {\n",
       "        text-align: right;\n",
       "    }\n",
       "\n",
       "    .dataframe thead th {\n",
       "        text-align: left;\n",
       "    }\n",
       "\n",
       "    .dataframe tbody tr th {\n",
       "        vertical-align: top;\n",
       "    }\n",
       "</style>\n",
       "<table border=\"1\" class=\"dataframe\">\n",
       "  <thead>\n",
       "    <tr style=\"text-align: right;\">\n",
       "      <th></th>\n",
       "      <th>elavskode</th>\n",
       "      <th>matrnr</th>\n",
       "      <th>esr_ejdnr</th>\n",
       "      <th>tinglysning</th>\n",
       "    </tr>\n",
       "  </thead>\n",
       "  <tbody>\n",
       "    <tr>\n",
       "      <th>0</th>\n",
       "      <td>20151</td>\n",
       "      <td>11bø</td>\n",
       "      <td>1510034160</td>\n",
       "      <td>https://www.tinglysning.dk/tinglysning/unsecre...</td>\n",
       "    </tr>\n",
       "    <tr>\n",
       "      <th>1</th>\n",
       "      <td>20151</td>\n",
       "      <td>11cz</td>\n",
       "      <td>1510034152</td>\n",
       "      <td>https://www.tinglysning.dk/tinglysning/unsecre...</td>\n",
       "    </tr>\n",
       "    <tr>\n",
       "      <th>2</th>\n",
       "      <td>20151</td>\n",
       "      <td>11cx</td>\n",
       "      <td>1510034101</td>\n",
       "      <td>https://www.tinglysning.dk/tinglysning/unsecre...</td>\n",
       "    </tr>\n",
       "    <tr>\n",
       "      <th>3</th>\n",
       "      <td>20151</td>\n",
       "      <td>11cæ</td>\n",
       "      <td>1510034144</td>\n",
       "      <td>https://www.tinglysning.dk/tinglysning/unsecre...</td>\n",
       "    </tr>\n",
       "    <tr>\n",
       "      <th>4</th>\n",
       "      <td>20151</td>\n",
       "      <td>11cp</td>\n",
       "      <td>1510017479</td>\n",
       "      <td>https://www.tinglysning.dk/tinglysning/unsecre...</td>\n",
       "    </tr>\n",
       "  </tbody>\n",
       "</table>\n",
       "</div>"
      ],
      "text/plain": [
       "   elavskode matrnr   esr_ejdnr  \\\n",
       "0      20151   11bø  1510034160   \n",
       "1      20151   11cz  1510034152   \n",
       "2      20151   11cx  1510034101   \n",
       "3      20151   11cæ  1510034144   \n",
       "4      20151   11cp  1510017479   \n",
       "\n",
       "                                         tinglysning  \n",
       "0  https://www.tinglysning.dk/tinglysning/unsecre...  \n",
       "1  https://www.tinglysning.dk/tinglysning/unsecre...  \n",
       "2  https://www.tinglysning.dk/tinglysning/unsecre...  \n",
       "3  https://www.tinglysning.dk/tinglysning/unsecre...  \n",
       "4  https://www.tinglysning.dk/tinglysning/unsecre...  "
      ]
     },
     "execution_count": 96,
     "metadata": {},
     "output_type": "execute_result"
    }
   ],
   "source": [
    "matrikel"
   ]
  },
  {
   "cell_type": "markdown",
   "metadata": {},
   "source": [
    "# Berigelse\n",
    "I denne sektion beriges matriklerne med data fra Tinglysning."
   ]
  },
  {
   "cell_type": "code",
   "execution_count": 86,
   "metadata": {
    "collapsed": true
   },
   "outputs": [],
   "source": [
    "#import requests\n",
    "import time # Bruges til ikke at overbelaste API'et\n",
    "import OpenSSL.crypto\n",
    "import json\n",
    "import xml.etree.ElementTree as etree"
   ]
  },
  {
   "cell_type": "markdown",
   "metadata": {},
   "source": [
    "Tænker at det er i nedenstående funktion vi har brug for hjælp til at få hul igennem til API'et. Hvis der er flere tinglysninger tilknyttet en matrikel tænker jeg at ```get_tinlysning``` kan returnere en liste med json-objekter fra kaldene.\n",
    "<br><br>\n",
    "[Beskrivelse af hvordan parameteren row fungerer i pandas](https://stackoverflow.com/a/30389492)\n"
   ]
  },
  {
   "cell_type": "code",
   "execution_count": null,
   "metadata": {
    "collapsed": true
   },
   "outputs": [],
   "source": [
    "def pfx_to_pem(pfx_path, pfx_password):\n",
    "    ''' Udpakning af p12 certifikat til PEM  '''\n",
    "    with tempfile.NamedTemporaryFile(suffix='.pem', delete=False) as t_pem:\n",
    "        f_pem = open(t_pem.name, 'wb')\n",
    "        pfx = open(pfx_path, 'rb').read()\n",
    "        p12 = OpenSSL.crypto.load_pkcs12(pfx, pfx_password)\n",
    "        f_pem.write(OpenSSL.crypto.dump_privatekey(OpenSSL.crypto.FILETYPE_PEM, p12.get_privatekey()))\n",
    "        f_pem.write(OpenSSL.crypto.dump_certificate(OpenSSL.crypto.FILETYPE_PEM, p12.get_certificate()))\n",
    "        ca = p12.get_ca_certificates()\n",
    "        if ca is not None:\n",
    "            for cert in ca:\n",
    "                f_pem.write(OpenSSL.crypto.dump_certificate(OpenSSL.crypto.FILETYPE_PEM, cert))\n",
    "        f_pem.close()\n",
    "        yield t_pem.name\n"
   ]
  },
  {
   "cell_type": "code",
   "execution_count": null,
   "metadata": {
    "collapsed": true
   },
   "outputs": [],
   "source": [
    "def tingbogsparser(tingxml):\n",
    "    #Fra tinglysningen kommer der xml fil retur med servitutter mm.\n",
    "\n",
    "    for elem in tingxml.findall('{http://rep.oio.dk/tinglysning.dk/schema/elektroniskakt/1/}EjendomSummarisk'):\n",
    "\n",
    "        for child in elem.getchildren():\n",
    "            for step_child in child.getchildren():\n",
    "                if step_child.tag == '{http://rep.oio.dk/tinglysning.dk/schema/elektroniskakt/1/}ServitutSummarisk':\n",
    "\n",
    "                    for servitutxml in step_child.getchildren():\n",
    "                        #print(servitutxml.tag, servitutxml.attrib, servitutxml.text)\n",
    "                        #print('juhuu')\n",
    "                        if servitutxml.tag =='{http://rep.oio.dk/tinglysning.dk/schema/model/1/}DokumentRevisionIdentifikator':\n",
    "                            dokid = servitutxml[0].text\n",
    "                        if servitutxml.tag =='{http://rep.oio.dk/tinglysning.dk/schema/model/1/}TinglysningsDato':\n",
    "                            tingdato = servitutxml.text\n",
    "                        if servitutxml.tag =='{http://rep.oio.dk/tinglysning.dk/schema/model/1/}SenestPaategnetDato':\n",
    "                            paategndato = servitutxml.text\n",
    "                        if servitutxml.tag =='{http://rep.oio.dk/tinglysning.dk/schema/model/1/}Servitutrettighed':\n",
    "                            rettighedid = servitutxml[0].text\n",
    "                        if servitutxml.tag =='{http://rep.oio.dk/tinglysning.dk/schema/elektroniskakt/1/}OgsaaLystPaaSamling':\n",
    "                            ogsaalystpaa = servitutxml[0].text\n",
    "                        if servitutxml.tag =='{http://rep.oio.dk/tinglysning.dk/schema/elektroniskakt/1/}DokumentAlias':\n",
    "                            historiskid = servitutxml[0].text\n",
    "                        if servitutxml.tag =='{http://rep.oio.dk/tinglysning.dk/schema/model/1/}ServitutType':\n",
    "                            servituttype = servitutxml.text\n",
    "                        if servitutxml.tag =='{http://rep.oio.dk/tinglysning.dk/schema/elektroniskakt/1/}TillaegstekstSamling':\n",
    "                            servituttekst = ''.join(servitutxml.itertext())"
   ]
  },
  {
   "cell_type": "code",
   "execution_count": 98,
   "metadata": {
    "collapsed": true
   },
   "outputs": [],
   "source": [
    "def get_tinglysning(row):\n",
    "    \"\"\"\n",
    "    Henter data fra tinglysning for hver række i dataframe på baggrund af\n",
    "    matrikeloplysninger. Bruges i sammenhæng med apply metoden på DF\n",
    "    \"\"\"\n",
    "    ejerlav = str(round(row['elavskode']))\n",
    "    matnr = row['matrnr']\n",
    "    #ejedomsnr = row['esr_ejdnr'] #Bruges ikke endnu, men kan bruges som alternativ til matrikelnummer/ejerlav\n",
    "    # Det anbefales at bruge matrikelnummer/ejerlav.\n",
    "    url = 'https://www.tinglysning.dk/tinglysning/ssl/ejendom/landsejerlavmatrikel?landsejerlavid={}&matrikelnr={}'.format(ejerlav, matnr)\n",
    "    with pfx_to_pem('sti_til_p12_certifikat', 'p12_password') as cert:\n",
    "        r = requests.get(url, cert=cert)\n",
    "\n",
    "        if r.status_code!= 200:\n",
    "            print('http error')\n",
    "\n",
    "        fejl = 0\n",
    "        try:\n",
    "            data = json.loads(r.text)\n",
    "        except ValueError:\n",
    "            print('Decode error')\n",
    "            fejl = 1\n",
    "        #I JSON der returnerers fra tinglysningen er der et uuid for hver ejendom på matriklen. \n",
    "        for c in data['items']:\n",
    "            print (c['uuid'])\n",
    "            r = requests.get(\n",
    "            'https://www.tinglysning.dk/tinglysning/ssl/ejdsummarisk/'+c['uuid'],\n",
    "            cert=cert)\n",
    "            tingxml = etree.fromstring(r.content)\n",
    "\n",
    "            tingbogsparser(tingxml)\n",
    "    \n",
    "    # Laver et kald hvert 5 sekund\n",
    "   \n",
    "    time.sleep(5)\n",
    "    return url\n"
   ]
  },
  {
   "cell_type": "code",
   "execution_count": 88,
   "metadata": {
    "collapsed": true
   },
   "outputs": [],
   "source": [
    "matrikel['tinglysning'] = matrikel.apply(get_tinglysning, axis=1)"
   ]
  },
  {
   "cell_type": "code",
   "execution_count": 89,
   "metadata": {},
   "outputs": [
    {
     "name": "stdout",
     "output_type": "stream",
     "text": [
      "https://www.tinglysning.dk/tinglysning/unsecrest/ejendom/landsejerlavmatrikel?landsejerlavid=20151&matrikelnr=11cz\n"
     ]
    }
   ],
   "source": [
    "print(matrikel['tinglysning'][1])"
   ]
  },
  {
   "cell_type": "code",
   "execution_count": 90,
   "metadata": {},
   "outputs": [
    {
     "data": {
      "text/html": [
       "<div>\n",
       "<style>\n",
       "    .dataframe thead tr:only-child th {\n",
       "        text-align: right;\n",
       "    }\n",
       "\n",
       "    .dataframe thead th {\n",
       "        text-align: left;\n",
       "    }\n",
       "\n",
       "    .dataframe tbody tr th {\n",
       "        vertical-align: top;\n",
       "    }\n",
       "</style>\n",
       "<table border=\"1\" class=\"dataframe\">\n",
       "  <thead>\n",
       "    <tr style=\"text-align: right;\">\n",
       "      <th></th>\n",
       "      <th>elavskode</th>\n",
       "      <th>matrnr</th>\n",
       "      <th>esr_ejdnr</th>\n",
       "      <th>tinglysning</th>\n",
       "    </tr>\n",
       "  </thead>\n",
       "  <tbody>\n",
       "    <tr>\n",
       "      <th>0</th>\n",
       "      <td>20151</td>\n",
       "      <td>11bø</td>\n",
       "      <td>1510034160</td>\n",
       "      <td>https://www.tinglysning.dk/tinglysning/unsecre...</td>\n",
       "    </tr>\n",
       "    <tr>\n",
       "      <th>1</th>\n",
       "      <td>20151</td>\n",
       "      <td>11cz</td>\n",
       "      <td>1510034152</td>\n",
       "      <td>https://www.tinglysning.dk/tinglysning/unsecre...</td>\n",
       "    </tr>\n",
       "    <tr>\n",
       "      <th>2</th>\n",
       "      <td>20151</td>\n",
       "      <td>11cx</td>\n",
       "      <td>1510034101</td>\n",
       "      <td>https://www.tinglysning.dk/tinglysning/unsecre...</td>\n",
       "    </tr>\n",
       "    <tr>\n",
       "      <th>3</th>\n",
       "      <td>20151</td>\n",
       "      <td>11cæ</td>\n",
       "      <td>1510034144</td>\n",
       "      <td>https://www.tinglysning.dk/tinglysning/unsecre...</td>\n",
       "    </tr>\n",
       "    <tr>\n",
       "      <th>4</th>\n",
       "      <td>20151</td>\n",
       "      <td>11cp</td>\n",
       "      <td>1510017479</td>\n",
       "      <td>https://www.tinglysning.dk/tinglysning/unsecre...</td>\n",
       "    </tr>\n",
       "  </tbody>\n",
       "</table>\n",
       "</div>"
      ],
      "text/plain": [
       "   elavskode matrnr   esr_ejdnr  \\\n",
       "0      20151   11bø  1510034160   \n",
       "1      20151   11cz  1510034152   \n",
       "2      20151   11cx  1510034101   \n",
       "3      20151   11cæ  1510034144   \n",
       "4      20151   11cp  1510017479   \n",
       "\n",
       "                                         tinglysning  \n",
       "0  https://www.tinglysning.dk/tinglysning/unsecre...  \n",
       "1  https://www.tinglysning.dk/tinglysning/unsecre...  \n",
       "2  https://www.tinglysning.dk/tinglysning/unsecre...  \n",
       "3  https://www.tinglysning.dk/tinglysning/unsecre...  \n",
       "4  https://www.tinglysning.dk/tinglysning/unsecre...  "
      ]
     },
     "execution_count": 90,
     "metadata": {},
     "output_type": "execute_result"
    }
   ],
   "source": [
    "matrikel"
   ]
  },
  {
   "cell_type": "markdown",
   "metadata": {},
   "source": [
    "# Output\n",
    "Der er lavet to muligheder for output, CSV og PostgreSQL"
   ]
  },
  {
   "cell_type": "markdown",
   "metadata": {},
   "source": [
    "### 1. CSV"
   ]
  },
  {
   "cell_type": "code",
   "execution_count": 97,
   "metadata": {
    "collapsed": true
   },
   "outputs": [],
   "source": [
    "matrikel.to_csv('data/output.csv')"
   ]
  },
  {
   "cell_type": "markdown",
   "metadata": {},
   "source": [
    "### 2. PostgreSQL"
   ]
  },
  {
   "cell_type": "code",
   "execution_count": 91,
   "metadata": {
    "collapsed": true
   },
   "outputs": [],
   "source": [
    "dtype = {\n",
    "    'elavskode': sqlalchemy.VARCHAR(), \n",
    "    'matrnr': sqlalchemy.VARCHAR(),\n",
    "    'esr_ejdnr': sqlalchemy.VARCHAR(),\n",
    "    'tinglysning': sqlalchemy.JSON()\n",
    "}"
   ]
  },
  {
   "cell_type": "code",
   "execution_count": 92,
   "metadata": {
    "collapsed": true
   },
   "outputs": [],
   "source": [
    "matrikel.to_sql(table, con, schema=schema, if_exists='replace', index_label='gid', dtype=dtype)"
   ]
  }
 ],
 "metadata": {
  "kernelspec": {
   "display_name": "Python 3",
   "language": "python",
   "name": "python3"
  },
  "language_info": {
   "codemirror_mode": {
    "name": "ipython",
    "version": 3
   },
   "file_extension": ".py",
   "mimetype": "text/x-python",
   "name": "python",
   "nbconvert_exporter": "python",
   "pygments_lexer": "ipython3",
   "version": "3.6.3"
  }
 },
 "nbformat": 4,
 "nbformat_minor": 2
}
