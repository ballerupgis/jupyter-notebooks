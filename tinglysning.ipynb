{
 "cells": [
  {
   "cell_type": "markdown",
   "metadata": {},
   "source": [
    "# Tinglysningsdata\n",
    "Script som beriger matrikeltabel med oplysninger fra tingbogen ud fra matrikeloplysninger som slås op i tingbogens [system til system adgang](http://www.tinglysningsretten.dk/etl/Pages/default.aspx) som kan tilgås via [API'et](http://www.tinglysningsretten.dk/etl/hoveddokumenter/Documents/HTTP_API_beskrivelse%20v1.1.docx). Scriptet er opbygget i tre faser:\n",
    "1. [Input af matrikeldata fra database](#Input)\n",
    "2. [Berigelse af matrikeldata med data fra tingbogen](#Berigelse)\n",
    "3. [Output berigede matrikeldata til database](#Output)"
   ]
  },
  {
   "cell_type": "code",
   "execution_count": 5,
   "metadata": {
    "collapsed": true
   },
   "outputs": [],
   "source": [
    "import pandas as pd\n",
    "import numpy as np\n",
    "import psycopg2\n",
    "import sqlalchemy"
   ]
  },
  {
   "cell_type": "markdown",
   "metadata": {},
   "source": [
    "#### Databaseforbindelsen opsættes"
   ]
  },
  {
   "cell_type": "code",
   "execution_count": 62,
   "metadata": {
    "collapsed": true
   },
   "outputs": [],
   "source": [
    "user = 'xxx'\n",
    "pw = 'xxx'\n",
    "port = 5432\n",
    "host = 'postgres'\n",
    "db = 'ballerup'\n",
    "schema = 'proj_tinglysning'\n",
    "table = 'ballerup'"
   ]
  },
  {
   "cell_type": "code",
   "execution_count": 12,
   "metadata": {
    "collapsed": true,
    "scrolled": true
   },
   "outputs": [],
   "source": [
    "con = create_engine('postgresql://{0}:{1}@{2}:{3}/{4}'.format(user, pw, host, port, db))"
   ]
  },
  {
   "cell_type": "markdown",
   "metadata": {},
   "source": [
    "# Input\n",
    "Laver DF med matrikeloplysninger for Ballerup Kommune. Her er listet to muligheder: 1. som henter data fra csv og 2. som henter fra PostgreSQL"
   ]
  },
  {
   "cell_type": "markdown",
   "metadata": {},
   "source": [
    "### 1. CSV"
   ]
  },
  {
   "cell_type": "code",
   "execution_count": 6,
   "metadata": {},
   "outputs": [],
   "source": [
    "# Laver DF med matrikeloplysninger for Ballerup Kommune \n",
    "# Fjern .head(5) når det hele skal ind \n",
    "matrikel = pd.read_csv('data/matrikel.csv').head(5)"
   ]
  },
  {
   "cell_type": "code",
   "execution_count": 7,
   "metadata": {},
   "outputs": [
    {
     "data": {
      "text/html": [
       "<div>\n",
       "<style>\n",
       "    .dataframe thead tr:only-child th {\n",
       "        text-align: right;\n",
       "    }\n",
       "\n",
       "    .dataframe thead th {\n",
       "        text-align: left;\n",
       "    }\n",
       "\n",
       "    .dataframe tbody tr th {\n",
       "        vertical-align: top;\n",
       "    }\n",
       "</style>\n",
       "<table border=\"1\" class=\"dataframe\">\n",
       "  <thead>\n",
       "    <tr style=\"text-align: right;\">\n",
       "      <th></th>\n",
       "      <th>elavskode</th>\n",
       "      <th>matrnr</th>\n",
       "      <th>esr_ejdnr</th>\n",
       "    </tr>\n",
       "  </thead>\n",
       "  <tbody>\n",
       "    <tr>\n",
       "      <th>0</th>\n",
       "      <td>20151</td>\n",
       "      <td>11bø</td>\n",
       "      <td>1510034160</td>\n",
       "    </tr>\n",
       "    <tr>\n",
       "      <th>1</th>\n",
       "      <td>20151</td>\n",
       "      <td>11cz</td>\n",
       "      <td>1510034152</td>\n",
       "    </tr>\n",
       "    <tr>\n",
       "      <th>2</th>\n",
       "      <td>20151</td>\n",
       "      <td>11cx</td>\n",
       "      <td>1510034101</td>\n",
       "    </tr>\n",
       "    <tr>\n",
       "      <th>3</th>\n",
       "      <td>20151</td>\n",
       "      <td>11cæ</td>\n",
       "      <td>1510034144</td>\n",
       "    </tr>\n",
       "    <tr>\n",
       "      <th>4</th>\n",
       "      <td>20151</td>\n",
       "      <td>11cp</td>\n",
       "      <td>1510017479</td>\n",
       "    </tr>\n",
       "  </tbody>\n",
       "</table>\n",
       "</div>"
      ],
      "text/plain": [
       "   elavskode matrnr   esr_ejdnr\n",
       "0      20151   11bø  1510034160\n",
       "1      20151   11cz  1510034152\n",
       "2      20151   11cx  1510034101\n",
       "3      20151   11cæ  1510034144\n",
       "4      20151   11cp  1510017479"
      ]
     },
     "execution_count": 7,
     "metadata": {},
     "output_type": "execute_result"
    }
   ],
   "source": [
    "matrikel"
   ]
  },
  {
   "cell_type": "markdown",
   "metadata": {},
   "source": [
    "### 2. PostgreSQL"
   ]
  },
  {
   "cell_type": "code",
   "execution_count": 57,
   "metadata": {
    "collapsed": true
   },
   "outputs": [],
   "source": [
    "# Laver DF med matrikeloplysninger for Ballerup Kommune \n",
    "# Fjern .head(5) når det hele skal ind \n",
    "matrikel = pd.read_sql_query('select elavskode, matrnr, esr_ejdnr from \"_00_grundkort\".\"_00_02_jordstykke\"',con=con).head(5)"
   ]
  },
  {
   "cell_type": "code",
   "execution_count": 58,
   "metadata": {},
   "outputs": [
    {
     "data": {
      "text/html": [
       "<div>\n",
       "<style>\n",
       "    .dataframe thead tr:only-child th {\n",
       "        text-align: right;\n",
       "    }\n",
       "\n",
       "    .dataframe thead th {\n",
       "        text-align: left;\n",
       "    }\n",
       "\n",
       "    .dataframe tbody tr th {\n",
       "        vertical-align: top;\n",
       "    }\n",
       "</style>\n",
       "<table border=\"1\" class=\"dataframe\">\n",
       "  <thead>\n",
       "    <tr style=\"text-align: right;\">\n",
       "      <th></th>\n",
       "      <th>elavskode</th>\n",
       "      <th>matrnr</th>\n",
       "      <th>esr_ejdnr</th>\n",
       "    </tr>\n",
       "  </thead>\n",
       "  <tbody>\n",
       "    <tr>\n",
       "      <th>0</th>\n",
       "      <td>20151.0</td>\n",
       "      <td>11bø</td>\n",
       "      <td>1510034160.0</td>\n",
       "    </tr>\n",
       "    <tr>\n",
       "      <th>1</th>\n",
       "      <td>20151.0</td>\n",
       "      <td>11cz</td>\n",
       "      <td>1510034152.0</td>\n",
       "    </tr>\n",
       "    <tr>\n",
       "      <th>2</th>\n",
       "      <td>20151.0</td>\n",
       "      <td>11cx</td>\n",
       "      <td>1510034101.0</td>\n",
       "    </tr>\n",
       "    <tr>\n",
       "      <th>3</th>\n",
       "      <td>20151.0</td>\n",
       "      <td>11cæ</td>\n",
       "      <td>1510034144.0</td>\n",
       "    </tr>\n",
       "    <tr>\n",
       "      <th>4</th>\n",
       "      <td>20151.0</td>\n",
       "      <td>11cp</td>\n",
       "      <td>1510017479.0</td>\n",
       "    </tr>\n",
       "  </tbody>\n",
       "</table>\n",
       "</div>"
      ],
      "text/plain": [
       "  elavskode matrnr     esr_ejdnr\n",
       "0   20151.0   11bø  1510034160.0\n",
       "1   20151.0   11cz  1510034152.0\n",
       "2   20151.0   11cx  1510034101.0\n",
       "3   20151.0   11cæ  1510034144.0\n",
       "4   20151.0   11cp  1510017479.0"
      ]
     },
     "execution_count": 58,
     "metadata": {},
     "output_type": "execute_result"
    }
   ],
   "source": [
    "matrikel.applymap(str)"
   ]
  },
  {
   "cell_type": "markdown",
   "metadata": {},
   "source": [
    "# Berigelse\n",
    "I denne sektion beriges matriklerne med data fra Tinglysning."
   ]
  },
  {
   "cell_type": "code",
   "execution_count": 8,
   "metadata": {
    "collapsed": true
   },
   "outputs": [],
   "source": [
    "# Bruges til ikke at overbelaste API'et\n",
    "import time"
   ]
  },
  {
   "cell_type": "markdown",
   "metadata": {},
   "source": [
    "Tænker at det er i nedenstående funktion vi har brug for hjælp til at få hul igennem til API'et. \n",
    "Beskrivelse af hvordan parameteren row fungerer i pandas\n",
    "https://stackoverflow.com/a/30389492"
   ]
  },
  {
   "cell_type": "code",
   "execution_count": 9,
   "metadata": {
    "collapsed": true
   },
   "outputs": [],
   "source": [
    "def get_tinglysning(row):\n",
    "    \"\"\"\n",
    "    Henter data fra tinglysning for hver række i dataframe på baggrund af\n",
    "    matrikeloplysninger. Bruges i sammenhæng med apply metoden på DF\n",
    "    \"\"\"\n",
    "    ejerlav = str(round(row['elavskode']))\n",
    "    matnr = row['matrnr']\n",
    "    #ejedomsnr = row['esr_ejdnr'] #Bruges ikke endnu, men kan bruges som alternativ til matrikelnummer/ejerlav\n",
    "    url = 'https://www.tinglysning.dk/tinglysning/unsecrest/ejendom/landsejerlavmatrikel?landsejerlavid={}&matrikelnr={}'.format(ejerlav, matnr)\n",
    "    # Laver et kald hvert 5 sekund\n",
    "    time.sleep(5)\n",
    "    return url\n"
   ]
  },
  {
   "cell_type": "code",
   "execution_count": 10,
   "metadata": {},
   "outputs": [],
   "source": [
    "matrikel['tinglysning'] = matrikel.apply(get_tinglysning, axis=1)"
   ]
  },
  {
   "cell_type": "code",
   "execution_count": 48,
   "metadata": {},
   "outputs": [
    {
     "name": "stdout",
     "output_type": "stream",
     "text": [
      "https://www.tinglysning.dk/tinglysning/unsecrest/ejendom/landsejerlavmatrikel?landsejerlavid=20151&matrikelnr=11cz\n"
     ]
    }
   ],
   "source": [
    "print(matrikel['tinglysning'][1])"
   ]
  },
  {
   "cell_type": "code",
   "execution_count": 49,
   "metadata": {},
   "outputs": [
    {
     "data": {
      "text/html": [
       "<div>\n",
       "<style>\n",
       "    .dataframe thead tr:only-child th {\n",
       "        text-align: right;\n",
       "    }\n",
       "\n",
       "    .dataframe thead th {\n",
       "        text-align: left;\n",
       "    }\n",
       "\n",
       "    .dataframe tbody tr th {\n",
       "        vertical-align: top;\n",
       "    }\n",
       "</style>\n",
       "<table border=\"1\" class=\"dataframe\">\n",
       "  <thead>\n",
       "    <tr style=\"text-align: right;\">\n",
       "      <th></th>\n",
       "      <th>elavskode</th>\n",
       "      <th>matrnr</th>\n",
       "      <th>esr_ejdnr</th>\n",
       "      <th>tinglysning</th>\n",
       "    </tr>\n",
       "  </thead>\n",
       "  <tbody>\n",
       "    <tr>\n",
       "      <th>0</th>\n",
       "      <td>20151.0</td>\n",
       "      <td>11bø</td>\n",
       "      <td>1.510034e+09</td>\n",
       "      <td>https://www.tinglysning.dk/tinglysning/unsecre...</td>\n",
       "    </tr>\n",
       "    <tr>\n",
       "      <th>1</th>\n",
       "      <td>20151.0</td>\n",
       "      <td>11cz</td>\n",
       "      <td>1.510034e+09</td>\n",
       "      <td>https://www.tinglysning.dk/tinglysning/unsecre...</td>\n",
       "    </tr>\n",
       "    <tr>\n",
       "      <th>2</th>\n",
       "      <td>20151.0</td>\n",
       "      <td>11cx</td>\n",
       "      <td>1.510034e+09</td>\n",
       "      <td>https://www.tinglysning.dk/tinglysning/unsecre...</td>\n",
       "    </tr>\n",
       "    <tr>\n",
       "      <th>3</th>\n",
       "      <td>20151.0</td>\n",
       "      <td>11cæ</td>\n",
       "      <td>1.510034e+09</td>\n",
       "      <td>https://www.tinglysning.dk/tinglysning/unsecre...</td>\n",
       "    </tr>\n",
       "    <tr>\n",
       "      <th>4</th>\n",
       "      <td>20151.0</td>\n",
       "      <td>11cp</td>\n",
       "      <td>1.510017e+09</td>\n",
       "      <td>https://www.tinglysning.dk/tinglysning/unsecre...</td>\n",
       "    </tr>\n",
       "  </tbody>\n",
       "</table>\n",
       "</div>"
      ],
      "text/plain": [
       "   elavskode matrnr     esr_ejdnr  \\\n",
       "0    20151.0   11bø  1.510034e+09   \n",
       "1    20151.0   11cz  1.510034e+09   \n",
       "2    20151.0   11cx  1.510034e+09   \n",
       "3    20151.0   11cæ  1.510034e+09   \n",
       "4    20151.0   11cp  1.510017e+09   \n",
       "\n",
       "                                         tinglysning  \n",
       "0  https://www.tinglysning.dk/tinglysning/unsecre...  \n",
       "1  https://www.tinglysning.dk/tinglysning/unsecre...  \n",
       "2  https://www.tinglysning.dk/tinglysning/unsecre...  \n",
       "3  https://www.tinglysning.dk/tinglysning/unsecre...  \n",
       "4  https://www.tinglysning.dk/tinglysning/unsecre...  "
      ]
     },
     "execution_count": 49,
     "metadata": {},
     "output_type": "execute_result"
    }
   ],
   "source": [
    "matrikel"
   ]
  },
  {
   "cell_type": "markdown",
   "metadata": {},
   "source": [
    "# Output"
   ]
  },
  {
   "cell_type": "code",
   "execution_count": 46,
   "metadata": {
    "collapsed": true
   },
   "outputs": [],
   "source": [
    "dtype = {\n",
    "    'elavskode': sqlalchemy.VARCHAR(), \n",
    "    'matrnr': sqlalchemy.VARCHAR(),\n",
    "    'esr_ejdnr': sqlalchemy.VARCHAR(),\n",
    "    'tinglysning': sqlalchemy.JSON()\n",
    "}"
   ]
  },
  {
   "cell_type": "code",
   "execution_count": 47,
   "metadata": {
    "collapsed": true
   },
   "outputs": [],
   "source": [
    "matrikel.to_sql('matrikel', con, schema=schema, if_exists='replace', index_label='gid', dtype=dtype)"
   ]
  }
 ],
 "metadata": {
  "kernelspec": {
   "display_name": "Python 3",
   "language": "python",
   "name": "python3"
  },
  "language_info": {
   "codemirror_mode": {
    "name": "ipython",
    "version": 3
   },
   "file_extension": ".py",
   "mimetype": "text/x-python",
   "name": "python",
   "nbconvert_exporter": "python",
   "pygments_lexer": "ipython3",
   "version": "3.6.1"
  }
 },
 "nbformat": 4,
 "nbformat_minor": 2
}
