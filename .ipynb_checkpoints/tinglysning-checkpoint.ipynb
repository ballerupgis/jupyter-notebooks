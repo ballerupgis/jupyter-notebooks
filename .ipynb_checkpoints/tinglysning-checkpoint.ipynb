{
 "cells": [
  {
   "cell_type": "markdown",
   "metadata": {},
   "source": [
    "# Tinglysningsdata\n",
    "Script som beriger matrikeltabel med oplysninger fra tingbogen ud fra matrikeloplysninger som slås op i tingbogens [system til system adgang](http://www.tinglysningsretten.dk/etl/Pages/default.aspx) som kan tilgås via [API'et](http://www.tinglysningsretten.dk/etl/hoveddokumenter/Documents/HTTP_API_beskrivelse%20v1.1.docx). Scriptet er opbygget i tre faser:\n",
    "1. [Input af matrikeldata fra database](#Input)\n",
    "2. [Berigelse af matrikeldata med data fra tingbogen](#Berigelse)\n",
    "3. [Output berigede matrikeldata til database](#Output)"
   ]
  },
  {
   "cell_type": "code",
   "execution_count": 29,
   "metadata": {
    "collapsed": true
   },
   "outputs": [],
   "source": [
    "import pandas as pd\n",
    "import numpy as np\n",
    "#import psycopg2\n",
    "import sqlalchemy\n",
    "from sqlalchemy import create_engine"
   ]
  },
  {
   "cell_type": "markdown",
   "metadata": {},
   "source": [
    "#### Databaseforbindelsen opsættes"
   ]
  },
  {
   "cell_type": "code",
   "execution_count": 30,
   "metadata": {},
   "outputs": [],
   "source": [
    "user = 'xxx'\n",
    "pw = 'xxx'\n",
    "port = 5432\n",
    "host = 'postgres'\n",
    "db = 'ballerup'\n",
    "schema = 'proj_tinglysning'\n",
    "table = 'ballerup'"
   ]
  },
  {
   "cell_type": "code",
   "execution_count": 31,
   "metadata": {
    "collapsed": true
   },
   "outputs": [
    {
     "ename": "ModuleNotFoundError",
     "evalue": "No module named 'psycopg2'",
     "output_type": "error",
     "traceback": [
      "\u001b[1;31m---------------------------------------------------------------------------\u001b[0m",
      "\u001b[1;31mModuleNotFoundError\u001b[0m                       Traceback (most recent call last)",
      "\u001b[1;32m<ipython-input-31-15f7a355aad0>\u001b[0m in \u001b[0;36m<module>\u001b[1;34m()\u001b[0m\n\u001b[1;32m----> 1\u001b[1;33m \u001b[0mcon\u001b[0m \u001b[1;33m=\u001b[0m \u001b[0mcreate_engine\u001b[0m\u001b[1;33m(\u001b[0m\u001b[1;34m'postgresql://{0}:{1}@{2}:{3}/{4}'\u001b[0m\u001b[1;33m.\u001b[0m\u001b[0mformat\u001b[0m\u001b[1;33m(\u001b[0m\u001b[0muser\u001b[0m\u001b[1;33m,\u001b[0m \u001b[0mpw\u001b[0m\u001b[1;33m,\u001b[0m \u001b[0mhost\u001b[0m\u001b[1;33m,\u001b[0m \u001b[0mport\u001b[0m\u001b[1;33m,\u001b[0m \u001b[0mdb\u001b[0m\u001b[1;33m)\u001b[0m\u001b[1;33m)\u001b[0m\u001b[1;33m\u001b[0m\u001b[0m\n\u001b[0m",
      "\u001b[1;32mC:\\ProgramData\\Anaconda3\\lib\\site-packages\\sqlalchemy\\engine\\__init__.py\u001b[0m in \u001b[0;36mcreate_engine\u001b[1;34m(*args, **kwargs)\u001b[0m\n\u001b[0;32m    385\u001b[0m     \u001b[0mstrategy\u001b[0m \u001b[1;33m=\u001b[0m \u001b[0mkwargs\u001b[0m\u001b[1;33m.\u001b[0m\u001b[0mpop\u001b[0m\u001b[1;33m(\u001b[0m\u001b[1;34m'strategy'\u001b[0m\u001b[1;33m,\u001b[0m \u001b[0mdefault_strategy\u001b[0m\u001b[1;33m)\u001b[0m\u001b[1;33m\u001b[0m\u001b[0m\n\u001b[0;32m    386\u001b[0m     \u001b[0mstrategy\u001b[0m \u001b[1;33m=\u001b[0m \u001b[0mstrategies\u001b[0m\u001b[1;33m.\u001b[0m\u001b[0mstrategies\u001b[0m\u001b[1;33m[\u001b[0m\u001b[0mstrategy\u001b[0m\u001b[1;33m]\u001b[0m\u001b[1;33m\u001b[0m\u001b[0m\n\u001b[1;32m--> 387\u001b[1;33m     \u001b[1;32mreturn\u001b[0m \u001b[0mstrategy\u001b[0m\u001b[1;33m.\u001b[0m\u001b[0mcreate\u001b[0m\u001b[1;33m(\u001b[0m\u001b[1;33m*\u001b[0m\u001b[0margs\u001b[0m\u001b[1;33m,\u001b[0m \u001b[1;33m**\u001b[0m\u001b[0mkwargs\u001b[0m\u001b[1;33m)\u001b[0m\u001b[1;33m\u001b[0m\u001b[0m\n\u001b[0m\u001b[0;32m    388\u001b[0m \u001b[1;33m\u001b[0m\u001b[0m\n\u001b[0;32m    389\u001b[0m \u001b[1;33m\u001b[0m\u001b[0m\n",
      "\u001b[1;32mC:\\ProgramData\\Anaconda3\\lib\\site-packages\\sqlalchemy\\engine\\strategies.py\u001b[0m in \u001b[0;36mcreate\u001b[1;34m(self, name_or_url, **kwargs)\u001b[0m\n\u001b[0;32m     78\u001b[0m                 \u001b[1;32mif\u001b[0m \u001b[0mk\u001b[0m \u001b[1;32min\u001b[0m \u001b[0mkwargs\u001b[0m\u001b[1;33m:\u001b[0m\u001b[1;33m\u001b[0m\u001b[0m\n\u001b[0;32m     79\u001b[0m                     \u001b[0mdbapi_args\u001b[0m\u001b[1;33m[\u001b[0m\u001b[0mk\u001b[0m\u001b[1;33m]\u001b[0m \u001b[1;33m=\u001b[0m \u001b[0mpop_kwarg\u001b[0m\u001b[1;33m(\u001b[0m\u001b[0mk\u001b[0m\u001b[1;33m)\u001b[0m\u001b[1;33m\u001b[0m\u001b[0m\n\u001b[1;32m---> 80\u001b[1;33m             \u001b[0mdbapi\u001b[0m \u001b[1;33m=\u001b[0m \u001b[0mdialect_cls\u001b[0m\u001b[1;33m.\u001b[0m\u001b[0mdbapi\u001b[0m\u001b[1;33m(\u001b[0m\u001b[1;33m**\u001b[0m\u001b[0mdbapi_args\u001b[0m\u001b[1;33m)\u001b[0m\u001b[1;33m\u001b[0m\u001b[0m\n\u001b[0m\u001b[0;32m     81\u001b[0m \u001b[1;33m\u001b[0m\u001b[0m\n\u001b[0;32m     82\u001b[0m         \u001b[0mdialect_args\u001b[0m\u001b[1;33m[\u001b[0m\u001b[1;34m'dbapi'\u001b[0m\u001b[1;33m]\u001b[0m \u001b[1;33m=\u001b[0m \u001b[0mdbapi\u001b[0m\u001b[1;33m\u001b[0m\u001b[0m\n",
      "\u001b[1;32mC:\\ProgramData\\Anaconda3\\lib\\site-packages\\sqlalchemy\\dialects\\postgresql\\psycopg2.py\u001b[0m in \u001b[0;36mdbapi\u001b[1;34m(cls)\u001b[0m\n\u001b[0;32m    552\u001b[0m     \u001b[1;33m@\u001b[0m\u001b[0mclassmethod\u001b[0m\u001b[1;33m\u001b[0m\u001b[0m\n\u001b[0;32m    553\u001b[0m     \u001b[1;32mdef\u001b[0m \u001b[0mdbapi\u001b[0m\u001b[1;33m(\u001b[0m\u001b[0mcls\u001b[0m\u001b[1;33m)\u001b[0m\u001b[1;33m:\u001b[0m\u001b[1;33m\u001b[0m\u001b[0m\n\u001b[1;32m--> 554\u001b[1;33m         \u001b[1;32mimport\u001b[0m \u001b[0mpsycopg2\u001b[0m\u001b[1;33m\u001b[0m\u001b[0m\n\u001b[0m\u001b[0;32m    555\u001b[0m         \u001b[1;32mreturn\u001b[0m \u001b[0mpsycopg2\u001b[0m\u001b[1;33m\u001b[0m\u001b[0m\n\u001b[0;32m    556\u001b[0m \u001b[1;33m\u001b[0m\u001b[0m\n",
      "\u001b[1;31mModuleNotFoundError\u001b[0m: No module named 'psycopg2'"
     ]
    }
   ],
   "source": [
    "con = create_engine('postgresql://{0}:{1}@{2}:{3}/{4}'.format(user, pw, host, port, db))"
   ]
  },
  {
   "cell_type": "markdown",
   "metadata": {},
   "source": [
    "# Input\n",
    "Laver DF med matrikeloplysninger for Ballerup Kommune. Her er listet to muligheder: 1. som henter data fra csv og 2. som henter fra PostgreSQL"
   ]
  },
  {
   "cell_type": "markdown",
   "metadata": {},
   "source": [
    "### 1. CSV"
   ]
  },
  {
   "cell_type": "code",
   "execution_count": 39,
   "metadata": {},
   "outputs": [],
   "source": [
    "# Laver DF med matrikeloplysninger for Ballerup Kommune \n",
    "# Fjern .head(5) når det hele skal ind \n",
    "matrikel = pd.read_csv('data/matrikel.csv').head()"
   ]
  },
  {
   "cell_type": "code",
   "execution_count": 40,
   "metadata": {},
   "outputs": [
    {
     "name": "stdout",
     "output_type": "stream",
     "text": [
      "<class 'pandas.core.frame.DataFrame'>\n",
      "RangeIndex: 5 entries, 0 to 4\n",
      "Data columns (total 3 columns):\n",
      "elavskode    5 non-null int64\n",
      "matrnr       5 non-null object\n",
      "esr_ejdnr    5 non-null int64\n",
      "dtypes: int64(2), object(1)\n",
      "memory usage: 200.0+ bytes\n"
     ]
    }
   ],
   "source": [
    "matrikel.info()"
   ]
  },
  {
   "cell_type": "markdown",
   "metadata": {},
   "source": [
    "### 2. PostgreSQL"
   ]
  },
  {
   "cell_type": "code",
   "execution_count": null,
   "metadata": {},
   "outputs": [],
   "source": [
    "# Laver DF med matrikeloplysninger for Ballerup Kommune \n",
    "# Fjern .head(5) når det hele skal ind \n",
    "matrikel = pd.read_sql_query('select elavskode, matrnr, esr_ejdnr from \"_00_grundkort\".\"_00_02_jordstykke\"',con=con).head()"
   ]
  },
  {
   "cell_type": "code",
   "execution_count": null,
   "metadata": {},
   "outputs": [],
   "source": [
    "# Sætter datatype for ejelav og ejdnr til heltal\n",
    "matrikel.elavskode = pd.to_numeric(matrikel.elavskode, errors='coerce').astype(np.int64)\n",
    "matrikel.esr_ejdnr = pd.to_numeric(matrikel.esr_ejdnr, errors='coerce').astype(np.int64)"
   ]
  },
  {
   "cell_type": "code",
   "execution_count": null,
   "metadata": {
    "collapsed": true
   },
   "outputs": [],
   "source": [
    "matrikel"
   ]
  },
  {
   "cell_type": "markdown",
   "metadata": {},
   "source": [
    "# Berigelse\n",
    "I denne sektion beriges matriklerne med data fra Tinglysning."
   ]
  },
  {
   "cell_type": "code",
   "execution_count": 74,
   "metadata": {
    "collapsed": true
   },
   "outputs": [],
   "source": [
    "#import requests\n",
    "import time # Bruges til ikke at overbelaste API'et\n",
    "import OpenSSL.crypto\n",
    "import json\n",
    "import xml.etree.ElementTree as etree\n",
    "import tempfile\n",
    "import requests\n",
    "import os\n",
    "\n",
    "# sti til PEM certifikat\n",
    "cert = 'data/certifikat.pem'\n",
    "# ejendomsliste\n",
    "ejdlist =[]"
   ]
  },
  {
   "cell_type": "markdown",
   "metadata": {},
   "source": [
    "Tænker at det er i nedenstående funktion vi har brug for hjælp til at få hul igennem til API'et. Hvis der er flere tinglysninger tilknyttet en matrikel tænker jeg at ```get_tinlysning``` kan returnere en liste med json-objekter fra kaldene.\n",
    "<br><br>\n",
    "[Beskrivelse af hvordan parameteren row fungerer i pandas](https://stackoverflow.com/a/30389492)\n"
   ]
  },
  {
   "cell_type": "code",
   "execution_count": 62,
   "metadata": {},
   "outputs": [],
   "source": [
    "def pfx_to_pem(pfx_path, pfx_password):\n",
    "    ''' Udpakning af p12 certifikat til PEM  '''\n",
    "    with tempfile.NamedTemporaryFile(suffix='.pem', delete=False) as t_pem:\n",
    "        f_pem = open(t_pem.name, 'wb')\n",
    "        pfx = open(pfx_path, 'rb').read()\n",
    "        p12 = OpenSSL.crypto.load_pkcs12(pfx, pfx_password)\n",
    "        f_pem.write(OpenSSL.crypto.dump_privatekey(OpenSSL.crypto.FILETYPE_PEM, p12.get_privatekey()))\n",
    "        f_pem.write(OpenSSL.crypto.dump_certificate(OpenSSL.crypto.FILETYPE_PEM, p12.get_certificate()))\n",
    "        ca = p12.get_ca_certificates()\n",
    "        if ca is not None:\n",
    "            for cert in ca:\n",
    "                f_pem.write(OpenSSL.crypto.dump_certificate(OpenSSL.crypto.FILETYPE_PEM, cert))\n",
    "        f_pem.close()\n",
    "        yield t_pem.name\n"
   ]
  },
  {
   "cell_type": "code",
   "execution_count": 75,
   "metadata": {},
   "outputs": [],
   "source": [
    "def get_akt(akt):\n",
    "#    with pfx_to_pem('X:/2018/1801013/Dokumenter/CVR58271713-FID12259525.p12', 'vKgl79hL') as cert:\n",
    "    r = requests.get(\n",
    "        'https://www.tinglysning.dk/tinglysning/ssl/indskannetakt/' + akt,\n",
    "        cert=cert)\n",
    "    if r.status_code != 200:\n",
    "        print('http error')\n",
    "    try:\n",
    "        aktjson = json.loads(r.text)\n",
    "    except ValueError:\n",
    "        print('Decode error')\n",
    "        fejl = 1\n",
    "    uuid = aktjson['uuid']\n",
    "    aktfilnavn =aktjson['filnavn']\n",
    "    if os.path.isfile('data/akt/'+aktfilnavn) == False:\n",
    "        r = requests.get(\n",
    "            'https://www.tinglysning.dk/tinglysning/pdfStreamer?entity=akt&uuid=' + uuid + '&filename=' + aktfilnavn,\n",
    "            stream=True)\n",
    "        if r.status_code == 200:\n",
    "            with open('data/akt/'+aktfilnavn, 'wb') as f:\n",
    "                for chunk in r.iter_content(2097152): # 2mb chunk size\n",
    "                    f.write(chunk)"
   ]
  },
  {
   "cell_type": "code",
   "execution_count": 76,
   "metadata": {},
   "outputs": [],
   "source": [
    "\n",
    "def get_deklaration(datolbnr):\n",
    "\n",
    "    r = requests.get(\n",
    "        'https://www.tinglysning.dk/tinglysning/ssl/dokaktuel/alias/' + datolbnr,\n",
    "        cert=cert)\n",
    "    deklarationxml = etree.fromstring(r.content)\n",
    "\n",
    "    #tingbogsparser(tingxml)\n",
    "    bilaglist = deklarationxml.findall('.//{http://rep.oio.dk/tinglysning.dk/schema/model/1/}BilagReference')\n",
    "    for bilag in bilaglist:\n",
    "        print (bilag[0]) # bilag UUID\n",
    "        if len(bilag)>0:\n",
    "            fileext = ''\n",
    "            if bilag[1].text == '80':\n",
    "                #pdf fil\n",
    "                fileext = '.pdf'\n",
    "            if bilag[1].text == '38':\n",
    "                # gml filer\n",
    "                fileext = '.gml'\n",
    "\n",
    "            if os.path.isfile('data/bilag/' + bilag[0].text + fileext) == False:\n",
    "                r = requests.get(\n",
    "                    'https://www.tinglysning.dk/tinglysning/ssl/bilag/' + bilag[0].text,\n",
    "                    cert=cert)\n",
    "                #    https://www.tinglysning.dk/tinglysning/rest/bilag/b06a3da3-a75f-4c1d-aa75-e2c881d077b3\n",
    "                if r.status_code == 200:\n",
    "                    with open('data/bilag/' + bilag[0].text + fileext, 'wb') as f:\n",
    "                        for chunk in r.iter_content(2097152):  # 2mb chunk size\n",
    "                            f.write(chunk)\n"
   ]
  },
  {
   "cell_type": "code",
   "execution_count": 77,
   "metadata": {},
   "outputs": [],
   "source": [
    "def tingbogsparser(tingxml):\n",
    "    #Fra tinglysningen kommer der xml fil retur med servitutter mm.\n",
    "\n",
    "    # Start med at løbe stamopslysninger igennem\n",
    "    # bfenr = bestemt fast ejendom\n",
    "    # komkode = kommune kode\n",
    "    # bbrnr = bbr nummmer\n",
    "    # ejdtype = ejendommens notering\n",
    "    for elem in tingxml.findall('.//{http://rep.oio.dk/tinglysning.dk/schema/elektroniskakt/1/}EjendomStamoplysninger'):\n",
    "        for child in elem.getchildren():\n",
    "            if child.tag == '{http://rep.oio.dk/tinglysning.dk/schema/model/1/}EjendomIdentifikator':\n",
    "                bfenr = child[0].text\n",
    "            # den scannede akt hentes\n",
    "            if child.tag == '{http://rep.oio.dk/tinglysning.dk/schema/elektroniskakt/1/}EjendomIndskannetAktSamling':\n",
    "                ejdakt = child[0].text\n",
    "                get_akt(ejdakt)\n",
    "\n",
    "            if child.tag == '{http://rep.oio.dk/tinglysning.dk/schema/snapshot/1/}EjendomVurderingSamling':\n",
    "                bbrnr = child[0][0][1].text\n",
    "                komkode = child[0][0][0].text\n",
    "\n",
    "            if child.tag == '{http://rep.oio.dk/tinglysning.dk/schema/elektroniskakt/1/}HovedNotering':\n",
    "                ejdtype = child.text\n",
    "\n",
    "    # servitutter udlæses\n",
    "    for elem in tingxml.findall('.//{http://rep.oio.dk/tinglysning.dk/schema/elektroniskakt/1/}ServitutSummarisk'):\n",
    "        for child in elem.getchildren():\n",
    "            if child.tag == '{http://rep.oio.dk/tinglysning.dk/schema/model/1/}DokumentRevisionIdentifikator':\n",
    "                dokid = child[0].text\n",
    "            if child.tag == '{http://rep.oio.dk/tinglysning.dk/schema/model/1/}TinglysningsDato':\n",
    "                tingdato = child.text\n",
    "            if child.tag == '{http://rep.oio.dk/tinglysning.dk/schema/model/1/}SenestPaategnetDato':\n",
    "                paategndato = child.text\n",
    "            if child.tag == '{http://rep.oio.dk/tinglysning.dk/schema/model/1/}Servitutrettighed':\n",
    "                rettighedid = child[0].text\n",
    "            if child.tag == '{http://rep.oio.dk/tinglysning.dk/schema/elektroniskakt/1/}OgsaaLystPaaSamling':\n",
    "                ogsaalystpaa = child[0].text\n",
    "            if child.tag == '{http://rep.oio.dk/tinglysning.dk/schema/elektroniskakt/1/}DokumentAlias':\n",
    "                # deklarationer fra før digital tinglysning\n",
    "                if child[\n",
    "                    0].tag == '{http://rep.oio.dk/tinglysning.dk/schema/elektroniskakt/1/}AktHistoriskIdentifikator':\n",
    "                    historiskid = child[0].text\n",
    "                # deklaration fra digital tinglysning\n",
    "                # der hentes xml deklaration + evt. gml filer\n",
    "                if child[\n",
    "                    0].tag == '{http://rep.oio.dk/tinglysning.dk/schema/elektroniskakt/1/}DokumentAliasIdentifikator':\n",
    "                    dokalias = child[0].text\n",
    "                    get_deklaration(dokalias)\n",
    "\n",
    "            if child.tag == '{http://rep.oio.dk/tinglysning.dk/schema/model/1/}ServitutType':\n",
    "                servituttype = child.text\n",
    "            if child.tag == '{http://rep.oio.dk/tinglysning.dk/schema/elektroniskakt/1/}TillaegstekstSamling':\n",
    "                servituttekst = ''.join(child.itertext())\n",
    "            # den scannede akt hentes\n",
    "            if child.tag == '{http://rep.oio.dk/tinglysning.dk/schema/elektroniskakt/1/}DokumentInformationOverfoert':\n",
    "                dokfilnavn = child[2].text\n",
    "                get_akt(dokfilnavn)\n"
   ]
  },
  {
   "cell_type": "code",
   "execution_count": 78,
   "metadata": {},
   "outputs": [],
   "source": [
    "def get_tinglysning(row):\n",
    "    \"\"\"\n",
    "    Henter data fra tinglysning for hver række i dataframe på baggrund af\n",
    "    matrikeloplysninger. Bruges i sammenhæng med apply metoden på DF\n",
    "    \"\"\"\n",
    "    ejerlav = str(round(row['elavskode']))\n",
    "    matnr = row['matrnr']\n",
    "    #ejedomsnr = row['esr_ejdnr'] #Bruges ikke endnu, men kan bruges som alternativ til matrikelnummer/ejerlav\n",
    "    # Det anbefales at bruge matrikelnummer/ejerlav.\n",
    "    url = 'https://www.tinglysning.dk/tinglysning/ssl/ejendom/landsejerlavmatrikel?landsejerlavid={}&matrikelnr={}'.format(ejerlav, matnr)\n",
    "    r = requests.get(url, cert=cert)\n",
    "\n",
    "    if r.status_code!= 200:\n",
    "        print('http error')\n",
    "\n",
    "    fejl = 0\n",
    "    try:\n",
    "        data = json.loads(r.text)\n",
    "    except ValueError:\n",
    "        print('Decode error')\n",
    "        fejl = 1\n",
    "    #I JSON der returnerers fra tinglysningen er der et uuid for hver ejendom på matriklen. \n",
    "    # Der laves tingbogsopslag på hvert uuid, det er XML der returneres\n",
    "    for c in data['items']:\n",
    "        try:\n",
    "            idx = ejdlist.index(c['uuid'])\n",
    "            opslag = False\n",
    "        except ValueError:\n",
    "            opslag = True\n",
    "        if opslag == True:\n",
    "            r = requests.get(\n",
    "            'https://www.tinglysning.dk/tinglysning/ssl/ejdsummarisk/'+c['uuid'],\n",
    "            cert=cert)\n",
    "            ejdlist.append(c['uuid'])\n",
    "            tingxml = etree.fromstring(r.content)\n",
    "\n",
    "            file = open(\"data/tingbog/\" + c['uuid'] +\".xml\",\"wb\")\n",
    "            file.write(etree.tostring(tingxml,encoding='utf8',method='xml'))\n",
    "\n",
    "            tingbogsparser(tingxml)\n",
    "            # Laver et kald hvert 5 sekund\n",
    "            time.sleep(5)\n",
    "    \n",
    "    return url\n"
   ]
  },
  {
   "cell_type": "code",
   "execution_count": 79,
   "metadata": {},
   "outputs": [],
   "source": [
    "matrikel['tinglysning'] = matrikel.apply(get_tinglysning, axis=1)"
   ]
  },
  {
   "cell_type": "code",
   "execution_count": 56,
   "metadata": {},
   "outputs": [
    {
     "name": "stdout",
     "output_type": "stream",
     "text": [
      "https://www.tinglysning.dk/tinglysning/ssl/ejendom/landsejerlavmatrikel?landsejerlavid=20151&matrikelnr=11cz\n"
     ]
    }
   ],
   "source": [
    "print(matrikel['tinglysning'][1])"
   ]
  },
  {
   "cell_type": "code",
   "execution_count": 57,
   "metadata": {},
   "outputs": [
    {
     "data": {
      "text/html": [
       "<div>\n",
       "<style>\n",
       "    .dataframe thead tr:only-child th {\n",
       "        text-align: right;\n",
       "    }\n",
       "\n",
       "    .dataframe thead th {\n",
       "        text-align: left;\n",
       "    }\n",
       "\n",
       "    .dataframe tbody tr th {\n",
       "        vertical-align: top;\n",
       "    }\n",
       "</style>\n",
       "<table border=\"1\" class=\"dataframe\">\n",
       "  <thead>\n",
       "    <tr style=\"text-align: right;\">\n",
       "      <th></th>\n",
       "      <th>elavskode</th>\n",
       "      <th>matrnr</th>\n",
       "      <th>esr_ejdnr</th>\n",
       "      <th>tinglysning</th>\n",
       "    </tr>\n",
       "  </thead>\n",
       "  <tbody>\n",
       "    <tr>\n",
       "      <th>0</th>\n",
       "      <td>20151</td>\n",
       "      <td>11bø</td>\n",
       "      <td>1510034160</td>\n",
       "      <td>https://www.tinglysning.dk/tinglysning/ssl/eje...</td>\n",
       "    </tr>\n",
       "    <tr>\n",
       "      <th>1</th>\n",
       "      <td>20151</td>\n",
       "      <td>11cz</td>\n",
       "      <td>1510034152</td>\n",
       "      <td>https://www.tinglysning.dk/tinglysning/ssl/eje...</td>\n",
       "    </tr>\n",
       "    <tr>\n",
       "      <th>2</th>\n",
       "      <td>20151</td>\n",
       "      <td>11cx</td>\n",
       "      <td>1510034101</td>\n",
       "      <td>https://www.tinglysning.dk/tinglysning/ssl/eje...</td>\n",
       "    </tr>\n",
       "    <tr>\n",
       "      <th>3</th>\n",
       "      <td>20151</td>\n",
       "      <td>11cæ</td>\n",
       "      <td>1510034144</td>\n",
       "      <td>https://www.tinglysning.dk/tinglysning/ssl/eje...</td>\n",
       "    </tr>\n",
       "    <tr>\n",
       "      <th>4</th>\n",
       "      <td>20151</td>\n",
       "      <td>11cp</td>\n",
       "      <td>1510017479</td>\n",
       "      <td>https://www.tinglysning.dk/tinglysning/ssl/eje...</td>\n",
       "    </tr>\n",
       "  </tbody>\n",
       "</table>\n",
       "</div>"
      ],
      "text/plain": [
       "   elavskode matrnr   esr_ejdnr  \\\n",
       "0      20151   11bø  1510034160   \n",
       "1      20151   11cz  1510034152   \n",
       "2      20151   11cx  1510034101   \n",
       "3      20151   11cæ  1510034144   \n",
       "4      20151   11cp  1510017479   \n",
       "\n",
       "                                         tinglysning  \n",
       "0  https://www.tinglysning.dk/tinglysning/ssl/eje...  \n",
       "1  https://www.tinglysning.dk/tinglysning/ssl/eje...  \n",
       "2  https://www.tinglysning.dk/tinglysning/ssl/eje...  \n",
       "3  https://www.tinglysning.dk/tinglysning/ssl/eje...  \n",
       "4  https://www.tinglysning.dk/tinglysning/ssl/eje...  "
      ]
     },
     "execution_count": 57,
     "metadata": {},
     "output_type": "execute_result"
    }
   ],
   "source": [
    "matrikel"
   ]
  },
  {
   "cell_type": "markdown",
   "metadata": {},
   "source": [
    "# Output\n",
    "Der er lavet to muligheder for output, CSV og PostgreSQL"
   ]
  },
  {
   "cell_type": "markdown",
   "metadata": {},
   "source": [
    "### 1. CSV"
   ]
  },
  {
   "cell_type": "code",
   "execution_count": 58,
   "metadata": {},
   "outputs": [],
   "source": [
    "matrikel.to_csv('data/output.csv')"
   ]
  },
  {
   "cell_type": "markdown",
   "metadata": {},
   "source": [
    "### 2. PostgreSQL"
   ]
  },
  {
   "cell_type": "code",
   "execution_count": 59,
   "metadata": {},
   "outputs": [],
   "source": [
    "dtype = {\n",
    "    'elavskode': sqlalchemy.VARCHAR(), \n",
    "    'matrnr': sqlalchemy.VARCHAR(),\n",
    "    'esr_ejdnr': sqlalchemy.VARCHAR(),\n",
    "    'tinglysning': sqlalchemy.JSON()\n",
    "}"
   ]
  },
  {
   "cell_type": "code",
   "execution_count": 60,
   "metadata": {},
   "outputs": [
    {
     "ename": "NameError",
     "evalue": "name 'con' is not defined",
     "output_type": "error",
     "traceback": [
      "\u001b[1;31m---------------------------------------------------------------------------\u001b[0m",
      "\u001b[1;31mNameError\u001b[0m                                 Traceback (most recent call last)",
      "\u001b[1;32m<ipython-input-60-925dd8fd36ec>\u001b[0m in \u001b[0;36m<module>\u001b[1;34m()\u001b[0m\n\u001b[1;32m----> 1\u001b[1;33m \u001b[0mmatrikel\u001b[0m\u001b[1;33m.\u001b[0m\u001b[0mto_sql\u001b[0m\u001b[1;33m(\u001b[0m\u001b[0mtable\u001b[0m\u001b[1;33m,\u001b[0m \u001b[0mcon\u001b[0m\u001b[1;33m,\u001b[0m \u001b[0mschema\u001b[0m\u001b[1;33m=\u001b[0m\u001b[0mschema\u001b[0m\u001b[1;33m,\u001b[0m \u001b[0mif_exists\u001b[0m\u001b[1;33m=\u001b[0m\u001b[1;34m'replace'\u001b[0m\u001b[1;33m,\u001b[0m \u001b[0mindex_label\u001b[0m\u001b[1;33m=\u001b[0m\u001b[1;34m'gid'\u001b[0m\u001b[1;33m,\u001b[0m \u001b[0mdtype\u001b[0m\u001b[1;33m=\u001b[0m\u001b[0mdtype\u001b[0m\u001b[1;33m)\u001b[0m\u001b[1;33m\u001b[0m\u001b[0m\n\u001b[0m",
      "\u001b[1;31mNameError\u001b[0m: name 'con' is not defined"
     ]
    }
   ],
   "source": [
    "matrikel.to_sql(table, con, schema=schema, if_exists='replace', index_label='gid', dtype=dtype)"
   ]
  }
 ],
 "metadata": {
  "kernelspec": {
   "display_name": "Python 3",
   "language": "python",
   "name": "python3"
  },
  "language_info": {
   "codemirror_mode": {
    "name": "ipython",
    "version": 3
   },
   "file_extension": ".py",
   "mimetype": "text/x-python",
   "name": "python",
   "nbconvert_exporter": "python",
   "pygments_lexer": "ipython3",
   "version": "3.6.3"
  }
 },
 "nbformat": 4,
 "nbformat_minor": 2
}
